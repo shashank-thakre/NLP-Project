{
 "cells": [
  {
   "cell_type": "code",
   "execution_count": 1,
   "metadata": {},
   "outputs": [
    {
     "name": "stdout",
     "output_type": "stream",
     "text": [
      "Python Version: 3.7.6 (default, Jan  8 2020, 20:23:39) [MSC v.1916 64 bit (AMD64)]\n",
      "TensorFlow Version: 2.5.0\n"
     ]
    }
   ],
   "source": [
    "import pandas as pd\n",
    "import numpy as np\n",
    "\n",
    "import sys\n",
    "import os\n",
    "import numpy as np\n",
    "import pandas as pd\n",
    "import tensorflow as tf\n",
    "import re\n",
    "import string\n",
    "\n",
    "import nltk as nltk\n",
    "from nltk.corpus import stopwords\n",
    "from nltk.stem.wordnet import WordNetLemmatizer\n",
    "\n",
    "pd.set_option('display.max_colwidth', None)\n",
    "\n",
    "import bokeh\n",
    "import ktrain\n",
    "\n",
    "print('Python Version: ' + sys.version)\n",
    "print('TensorFlow Version: ' + tf.__version__)"
   ]
  },
  {
   "cell_type": "code",
   "execution_count": 2,
   "metadata": {},
   "outputs": [
    {
     "data": {
      "text/plain": [
       "[PhysicalDevice(name='/physical_device:CPU:0', device_type='CPU'),\n",
       " PhysicalDevice(name='/physical_device:GPU:0', device_type='GPU')]"
      ]
     },
     "execution_count": 2,
     "metadata": {},
     "output_type": "execute_result"
    }
   ],
   "source": [
    "#Verify we got CPU + GPU or only CPU\n",
    "tf.config.list_physical_devices()"
   ]
  },
  {
   "cell_type": "code",
   "execution_count": 2,
   "metadata": {},
   "outputs": [],
   "source": [
    "df_news = pd.read_json('https://storage.googleapis.com/msca-bdp-data-open/news/news_final_project.json', orient='records', lines=True) "
   ]
  },
  {
   "cell_type": "code",
   "execution_count": 4,
   "metadata": {},
   "outputs": [
    {
     "data": {
      "text/plain": [
       "False"
      ]
     },
     "execution_count": 4,
     "metadata": {},
     "output_type": "execute_result"
    }
   ],
   "source": [
    "df_news['text'].isnull().values.any()"
   ]
  },
  {
   "cell_type": "code",
   "execution_count": 20,
   "metadata": {},
   "outputs": [],
   "source": [
    "mask = df_news['text'].str.len()  < 15"
   ]
  },
  {
   "cell_type": "code",
   "execution_count": 21,
   "metadata": {},
   "outputs": [
    {
     "data": {
      "text/html": [
       "<div>\n",
       "<style scoped>\n",
       "    .dataframe tbody tr th:only-of-type {\n",
       "        vertical-align: middle;\n",
       "    }\n",
       "\n",
       "    .dataframe tbody tr th {\n",
       "        vertical-align: top;\n",
       "    }\n",
       "\n",
       "    .dataframe thead th {\n",
       "        text-align: right;\n",
       "    }\n",
       "</style>\n",
       "<table border=\"1\" class=\"dataframe\">\n",
       "  <thead>\n",
       "    <tr style=\"text-align: right;\">\n",
       "      <th></th>\n",
       "      <th>date</th>\n",
       "      <th>language</th>\n",
       "      <th>title</th>\n",
       "      <th>text</th>\n",
       "    </tr>\n",
       "  </thead>\n",
       "  <tbody>\n",
       "    <tr>\n",
       "      <th>36</th>\n",
       "      <td>2021-06-03</td>\n",
       "      <td>english</td>\n",
       "      <td>Cite Chicago, IL</td>\n",
       "      <td>mother’s day</td>\n",
       "    </tr>\n",
       "    <tr>\n",
       "      <th>59</th>\n",
       "      <td>2020-08-06</td>\n",
       "      <td>english</td>\n",
       "      <td>Campio extended patio for Game 3 vs. Chicago | 5 August 2020… | Jennie</td>\n",
       "      <td>5 August 2020.</td>\n",
       "    </tr>\n",
       "    <tr>\n",
       "      <th>131</th>\n",
       "      <td>2020-07-19</td>\n",
       "      <td>english</td>\n",
       "      <td>Illinois Department of Agriculture Announces Details for Junior Livestock Expo and Junior Horse Show</td>\n",
       "      <td></td>\n",
       "    </tr>\n",
       "    <tr>\n",
       "      <th>294</th>\n",
       "      <td>2020-12-30</td>\n",
       "      <td>english</td>\n",
       "      <td>Illinois Judge Rules Against Craft Cannabis Growers Seeking Immediate Licenses | High Times</td>\n",
       "      <td></td>\n",
       "    </tr>\n",
       "    <tr>\n",
       "      <th>445</th>\n",
       "      <td>2021-08-03</td>\n",
       "      <td>english</td>\n",
       "      <td>Shams: Spurs Sending DeMar DeRozan to Chicago for Thad Young, a Future FRP, &amp; 2 SRPs</td>\n",
       "      <td>LFG</td>\n",
       "    </tr>\n",
       "    <tr>\n",
       "      <th>...</th>\n",
       "      <td>...</td>\n",
       "      <td>...</td>\n",
       "      <td>...</td>\n",
       "      <td>...</td>\n",
       "    </tr>\n",
       "    <tr>\n",
       "      <th>200050</th>\n",
       "      <td>2020-07-08</td>\n",
       "      <td>english</td>\n",
       "      <td>COVID-19 ILLINOIS: 587 New Confirmed Cases Tuesday; Kane Hitting Targets</td>\n",
       "      <td></td>\n",
       "    </tr>\n",
       "    <tr>\n",
       "      <th>200148</th>\n",
       "      <td>2021-04-13</td>\n",
       "      <td>english</td>\n",
       "      <td>More Than 1,000 Illinois Vaccination Locations Now Open to Residents 16 And Older</td>\n",
       "      <td></td>\n",
       "    </tr>\n",
       "    <tr>\n",
       "      <th>200356</th>\n",
       "      <td>2021-01-08</td>\n",
       "      <td>english</td>\n",
       "      <td>Illinois -7 2h</td>\n",
       "      <td>Lock it in</td>\n",
       "    </tr>\n",
       "    <tr>\n",
       "      <th>200582</th>\n",
       "      <td>2020-11-12</td>\n",
       "      <td>english</td>\n",
       "      <td>Jewel, Chicago Bears, and Salvation Army Event</td>\n",
       "      <td></td>\n",
       "    </tr>\n",
       "    <tr>\n",
       "      <th>200723</th>\n",
       "      <td>2020-02-23</td>\n",
       "      <td>english</td>\n",
       "      <td>Nissan Frontier: Chicago 2020</td>\n",
       "      <td>\\n</td>\n",
       "    </tr>\n",
       "  </tbody>\n",
       "</table>\n",
       "<p>2120 rows × 4 columns</p>\n",
       "</div>"
      ],
      "text/plain": [
       "             date language  \\\n",
       "36     2021-06-03  english   \n",
       "59     2020-08-06  english   \n",
       "131    2020-07-19  english   \n",
       "294    2020-12-30  english   \n",
       "445    2021-08-03  english   \n",
       "...           ...      ...   \n",
       "200050 2020-07-08  english   \n",
       "200148 2021-04-13  english   \n",
       "200356 2021-01-08  english   \n",
       "200582 2020-11-12  english   \n",
       "200723 2020-02-23  english   \n",
       "\n",
       "                                                                                                       title  \\\n",
       "36                                                                                          Cite Chicago, IL   \n",
       "59                                    Campio extended patio for Game 3 vs. Chicago | 5 August 2020… | Jennie   \n",
       "131     Illinois Department of Agriculture Announces Details for Junior Livestock Expo and Junior Horse Show   \n",
       "294              Illinois Judge Rules Against Craft Cannabis Growers Seeking Immediate Licenses | High Times   \n",
       "445                    Shams: Spurs Sending DeMar DeRozan to Chicago for Thad Young, a Future FRP, & 2 SRPs   \n",
       "...                                                                                                      ...   \n",
       "200050                              COVID-19 ILLINOIS: 587 New Confirmed Cases Tuesday; Kane Hitting Targets   \n",
       "200148                     More Than 1,000 Illinois Vaccination Locations Now Open to Residents 16 And Older   \n",
       "200356                                                                                        Illinois -7 2h   \n",
       "200582                                                        Jewel, Chicago Bears, and Salvation Army Event   \n",
       "200723                                                                         Nissan Frontier: Chicago 2020   \n",
       "\n",
       "                  text  \n",
       "36        mother’s day  \n",
       "59      5 August 2020.  \n",
       "131                     \n",
       "294                     \n",
       "445                LFG  \n",
       "...                ...  \n",
       "200050                  \n",
       "200148                  \n",
       "200356      Lock it in  \n",
       "200582                  \n",
       "200723              \\n  \n",
       "\n",
       "[2120 rows x 4 columns]"
      ]
     },
     "execution_count": 21,
     "metadata": {},
     "output_type": "execute_result"
    }
   ],
   "source": [
    "df_news.loc[mask]"
   ]
  },
  {
   "cell_type": "code",
   "execution_count": 22,
   "metadata": {},
   "outputs": [],
   "source": [
    "df = df_news.loc[~mask]"
   ]
  },
  {
   "cell_type": "code",
   "execution_count": 26,
   "metadata": {},
   "outputs": [
    {
     "data": {
      "text/plain": [
       "200891"
      ]
     },
     "execution_count": 26,
     "metadata": {},
     "output_type": "execute_result"
    }
   ],
   "source": [
    "len(df_news) "
   ]
  },
  {
   "cell_type": "code",
   "execution_count": 4,
   "metadata": {},
   "outputs": [
    {
     "data": {
      "text/html": [
       "<div>\n",
       "<style scoped>\n",
       "    .dataframe tbody tr th:only-of-type {\n",
       "        vertical-align: middle;\n",
       "    }\n",
       "\n",
       "    .dataframe tbody tr th {\n",
       "        vertical-align: top;\n",
       "    }\n",
       "\n",
       "    .dataframe thead th {\n",
       "        text-align: right;\n",
       "    }\n",
       "</style>\n",
       "<table border=\"1\" class=\"dataframe\">\n",
       "  <thead>\n",
       "    <tr style=\"text-align: right;\">\n",
       "      <th></th>\n",
       "      <th>date</th>\n",
       "      <th>language</th>\n",
       "      <th>title</th>\n",
       "      <th>text</th>\n",
       "    </tr>\n",
       "  </thead>\n",
       "  <tbody>\n",
       "    <tr>\n",
       "      <th>0</th>\n",
       "      <td>2021-07-23</td>\n",
       "      <td>english</td>\n",
       "      <td>chicago theater seating chart with seat numbers</td>\n",
       "      <td>Chicago Theatre Seating Chart With Seat Numbers Tickpick Chicago Theatre Seating Chart Theatre In Chicago 47 All Inclusive The Chicago Theater Seating Cibc Theatre Seating Chart Hamilton Seat Views Tickpick Cibc Theatre Seating Chart Theatre In Chicago Cibc Theatre Seating Chart Hamilton Seat Views Tickpick Chicago Theatre Seating Chart With Seat Numbers Tickpick Nederlander Theatre Seating Chart Theatre In Chicago The Chicago Theatre Seat Map Msg Official Site Shubert Theatre Seating Chart Best Seats Pro Tips And More Cadillac Palace Theatre Seating Chart Theatre In Chicago St James Theatre Seating Chart Frozen Guide Best Seats Chicago Theater Seating Chart Balcony Image Balcony And Winter Garden Theatre Online Charts Collection Athenaeum Theatre Main Stage Seating Chart Theatre In Spectrum Center Seating Chart With Seat Numbers Seating Chart Individual Tickets Amalie Arena Seating Chart With Rows Amalie Arena Seating Chart With Rows And Seat Numbers Chicago Theater Seating Chart Main Floor Best Of Folger Seating Chart Greek Theatre Venue Seating Charts 101 9fm The Mix Wtmx Chicago Theatre Seat Numbers Online Charts Collection 2 Tickets Hamilton 6 1 19 Cibc Theatre Chicago Il Ebay Allstate Arena Seat Row Numbers Detailed Seating Chart Lyric Opera Seating Chart Lyric Opera Of Chicago Chicago United Center Seat Numbers Detailed Seating Plan Ambassador Theatre Seating Chart Chicago Tickets Reviews 10 Things We Learned Buying Hamilton Chicago Tickets Image Result For Altria Theater Detailed Seating Chart 25 Elegant Scottrade Center Detailed Seating Chart Seaket Com Seating Chart Seat Number Spac Seating Chart Hd Png Lyric Opera Seating Chart Lyric Opera Of Chicago Seating Plan Lyric Theatre Rational The Majestic Seating Chart Chicago Theatre Seating Music Box Theatre Seating Chart Best Seats Pro Tips And 70 Clean Booth Playhouse Seating Chart Seating Chart Free Png Download Seat Number Rosemont Theater Seating Venue Seating Charts 101 9fm The Mix Wtmx Chicago 71 Best Of Image Of Warner Theatre Seating Chart The Chicago Theatre Chicago Il Seating Chart Stage Section 101 Gila River Arena Seating Chart With Seat Music Theater Seat Online Charts Collection 66 Prototypical Atlanta Hawks Arena Seating Chart Seating Chart Riviera Theatre Seating Chart And Events Schedule Systematic Seat Map Of B1 Msg Seating Chart With Seat Numbers Www Bedowntowndaytona Com Scotiabank Arena Seating Chart Rows Seat Numbers And Club The Most Amazing As Well As Lovely Staples Center Seating Chicago Theatre Main Floor 3l Rateyourseats Com</td>\n",
       "    </tr>\n",
       "    <tr>\n",
       "      <th>1</th>\n",
       "      <td>2021-07-24</td>\n",
       "      <td>english</td>\n",
       "      <td>harris theater chicago seating chart</td>\n",
       "      <td>Harris Theater Seatmap Chicago Opera Theater Chicago Harris Theater Seating Chart English Shen Yun Harris Theater 2019 Seating Chart Chicago Gay Mens Chorus Harris Theater Chicago Gay Mens Harris Theater Chicago Il Seating Chart Stage Chicago Gay Mens Chorus Harris Theater Chicago Gay Mens Photos At Harris Theater Harris Theater Tickets In Chicago Illinois Harris Theater Seat Map Chicago Opera Theater Harris Theater For Music And Dance Seating Chart Genuine Harris Center Seating Maps Photos At Harris Theater Harris Theater Chicago Wikipedia Harris Center Seating Maps Cibc Theatre Seating Chart Hamilton Seat Views Tickpick Harris Theater Chicago Wikipedia Hubbard Street Dance Chicago Packages Harris Theater Chicago Seating Chart Related Keywords Broadway In Chicago Wikiwand Your A To Z Guide To Broadway Theater Seating Charts Your A To Z Guide To Broadway Theater Seating Charts Map Of Millennium Park Plan Your Experience The Grant Seating Charts United Center Lyric Opera Seating Chart Lyric Opera Of Chicago Upcoming Events At The Copernicus Center In Chicago Chicago United Center View From Section 301 Row 8 Seat 15 Meticulous Young Auditorium Seating Chart Rosemont Rosemont Theatre Seating Chart English Shen Yun Millennium Park In Chicago Find Park Info Art Events Tours Broadway Seating Map Paramount Theatre Seat Map Chicago Opera Theater Your A To Z Guide To Broadway Theater Seating Charts Albert Theatre Goodman Theatre Chicago Theatre Seating Chart With Seat Numbers Tickpick Seating Chart Arcada Theatre Harris Theater Seating Chart Awesome The 10 Best Restaurants Lyric Opera Seating Chart Lyric Opera Of Chicago Grand Theatre Wolverhampton Swansea Grand Theatre Grand Cibc Theatre Chicago Tickets Schedule Seating Chart Directions Lookingglass Theatre Seating Chart Theatre In Chicago Seating Chart Auditorium Theatre Harris Theater Chicago Wikipedia James M Nederlander Theatre Seating Chart James M Harris Center Seating Maps Seating Chart Arie Crown Theater Oreilly Theater Briar Street Theater Seating Chart Chicago Harris Theater Seating Chart Awesome The 10 Best Restaurants Bmo Harris Bank Center Tickets And Bmo Harris Bank Center</td>\n",
       "    </tr>\n",
       "    <tr>\n",
       "      <th>2</th>\n",
       "      <td>2020-12-15</td>\n",
       "      <td>english</td>\n",
       "      <td>There's a Big Tree Growing Through a Car in Illinois</td>\n",
       "      <td>Published: December 14, 2020 nanjan\\nWe're not exactly sure what's going here, but we have a pretty good idea. What do you think the story is with these photos?\\nAbout a month ago, I joined a public Facebook group called, ILLINOIS Abandoned Images .\\n\"The beauty in the old, simplicity, the forgotten, is something to be cherished and never forgotten. It tells our story and we must listen.\\nPeople share photos of Illinois' abandoned houses, farms, commercial buildings, and just about anything else that we've just ignored and left behind. I've lost quite a bit of time looking at some pretty remarkable photos. The only rule for being a part of this group, besides acting like a respectable adult, appears to be that you don't share (or ask) for addresses.\\nOver the weekend, one member shared a couple photos of this Oldsmobile 442 that was just left behind. The stories that muscle car could tell... if cars could talk. I'd like to know the story of how a tree just grew right through it. At some point, you'd think the owner would say, \"damn, there's a tree growing through my 442, I've got to move her.\" But that clearly didn't happen. And, why is it still there? It's not like that tree just grew that big overnight. ILLINOIS Abandoned Images (Troy Shepard) ILLINOIS Abandoned Images (Troy Shepard)\\nWhat do you think the story might be?\\nSteve Shannon is host of The Steve Shannon Show on 97ZOK. On the air weekday mornings from 6 to 10 a.m. and a special 'Rewind' show, featuring favorite moments from previous shows, on Saturday mornings from 5 to 7 a.m.. Follow him on Twitter , Instagram , and like his page on Facebook .</td>\n",
       "    </tr>\n",
       "    <tr>\n",
       "      <th>3</th>\n",
       "      <td>2020-03-05</td>\n",
       "      <td>english</td>\n",
       "      <td>Former Fox White House reporter Wendell Goler dies | AM 560 The ANSWER - Chicago, IL</td>\n",
       "      <td>National News FILE - This May 4, 2010 file photo shows Fox News Channel's Wendell Goler in the White House briefing room in Washington. Goler, a longtime White House correspondent for Fox News Channel who reported on government since the presidency of Ronald Reagan, died this week of apparent kidney failure. He was 70. (AP Photo/Charles Dharapak, File) Thursday, March 5, 2020 1:09 PM EST By The Associated Press, AP\\nNEW YORK (AP) — Wendell Goler, a longtime White House correspondent for Fox News Channel who reported on government since the presidency of Ronald Reagan, has died at age 70.\\nHe died this week of apparent kidney failure, said a former Fox colleague, Brit Hume.\\nGoler was a Fox News original, joining the network at its inception in 1996 and working his way up to senior White House foreign affairs correspondent. He retired in 2014. He worked for The Associated Press and Washington-area television stations before joining Fox.\\nHe was a panelist for Republican presidential debates in South Carolina and New Hampshire in 2007, and interviewed Hillary Clinton when she was secretary of state, and former First Lady Laura Bush.\\n“Wendell was a gifted correspondent, a wonderful colleague and a Fox News original whose reporting was respected on both sides of the aisle,\" said Suzanne Scott, CEO of Fox News Media. \"We extend our deepest condolences to his wife Marge and his entire family.”\\nGoler jokingly referred to himself as a “dinosaur” upon his retirement but said he was glad to work during a golden era in broadcasting.\\nHume called Goler a valued friend who “did consistently solid and balanced work and his reports were always well-crafted, clear and easy to follow.” AP</td>\n",
       "    </tr>\n",
       "    <tr>\n",
       "      <th>4</th>\n",
       "      <td>2020-12-30</td>\n",
       "      <td>english</td>\n",
       "      <td>I am looking forward to many things in 2021. Illinois basketball...</td>\n",
       "      <td>I am looking forward to many things in 2021. Illinois basketball returning to the tournament, if I’m being honest, is higher than I’d like to admit. We made it, everyone. We made it through.\\nHere are this week’s stories:\\nSATURDAY</td>\n",
       "    </tr>\n",
       "  </tbody>\n",
       "</table>\n",
       "</div>"
      ],
      "text/plain": [
       "        date language  \\\n",
       "0 2021-07-23  english   \n",
       "1 2021-07-24  english   \n",
       "2 2020-12-15  english   \n",
       "3 2020-03-05  english   \n",
       "4 2020-12-30  english   \n",
       "\n",
       "                                                                                  title  \\\n",
       "0                                       chicago theater seating chart with seat numbers   \n",
       "1                                                  harris theater chicago seating chart   \n",
       "2                                  There's a Big Tree Growing Through a Car in Illinois   \n",
       "3  Former Fox White House reporter Wendell Goler dies | AM 560 The ANSWER - Chicago, IL   \n",
       "4                   I am looking forward to many things in 2021. Illinois basketball...   \n",
       "\n",
       "                                                                                                                                                                                                                                                                                                                                                                                                                                                                                                                                                                                                                                                                                                                                                                                                                                                                                                                                                                                                                                                                                                                                                                                                                                                                                                                                                                                                                                                                                                                                                                                                                                                                                                                                                                                                                                                                                                                                                                                                                                                                                                                                                                                                                                                                                                                                                                                                                                                                                                                                                                                                                                                        text  \n",
       "0  Chicago Theatre Seating Chart With Seat Numbers Tickpick Chicago Theatre Seating Chart Theatre In Chicago 47 All Inclusive The Chicago Theater Seating Cibc Theatre Seating Chart Hamilton Seat Views Tickpick Cibc Theatre Seating Chart Theatre In Chicago Cibc Theatre Seating Chart Hamilton Seat Views Tickpick Chicago Theatre Seating Chart With Seat Numbers Tickpick Nederlander Theatre Seating Chart Theatre In Chicago The Chicago Theatre Seat Map Msg Official Site Shubert Theatre Seating Chart Best Seats Pro Tips And More Cadillac Palace Theatre Seating Chart Theatre In Chicago St James Theatre Seating Chart Frozen Guide Best Seats Chicago Theater Seating Chart Balcony Image Balcony And Winter Garden Theatre Online Charts Collection Athenaeum Theatre Main Stage Seating Chart Theatre In Spectrum Center Seating Chart With Seat Numbers Seating Chart Individual Tickets Amalie Arena Seating Chart With Rows Amalie Arena Seating Chart With Rows And Seat Numbers Chicago Theater Seating Chart Main Floor Best Of Folger Seating Chart Greek Theatre Venue Seating Charts 101 9fm The Mix Wtmx Chicago Theatre Seat Numbers Online Charts Collection 2 Tickets Hamilton 6 1 19 Cibc Theatre Chicago Il Ebay Allstate Arena Seat Row Numbers Detailed Seating Chart Lyric Opera Seating Chart Lyric Opera Of Chicago Chicago United Center Seat Numbers Detailed Seating Plan Ambassador Theatre Seating Chart Chicago Tickets Reviews 10 Things We Learned Buying Hamilton Chicago Tickets Image Result For Altria Theater Detailed Seating Chart 25 Elegant Scottrade Center Detailed Seating Chart Seaket Com Seating Chart Seat Number Spac Seating Chart Hd Png Lyric Opera Seating Chart Lyric Opera Of Chicago Seating Plan Lyric Theatre Rational The Majestic Seating Chart Chicago Theatre Seating Music Box Theatre Seating Chart Best Seats Pro Tips And 70 Clean Booth Playhouse Seating Chart Seating Chart Free Png Download Seat Number Rosemont Theater Seating Venue Seating Charts 101 9fm The Mix Wtmx Chicago 71 Best Of Image Of Warner Theatre Seating Chart The Chicago Theatre Chicago Il Seating Chart Stage Section 101 Gila River Arena Seating Chart With Seat Music Theater Seat Online Charts Collection 66 Prototypical Atlanta Hawks Arena Seating Chart Seating Chart Riviera Theatre Seating Chart And Events Schedule Systematic Seat Map Of B1 Msg Seating Chart With Seat Numbers Www Bedowntowndaytona Com Scotiabank Arena Seating Chart Rows Seat Numbers And Club The Most Amazing As Well As Lovely Staples Center Seating Chicago Theatre Main Floor 3l Rateyourseats Com  \n",
       "1                                                                                                                                                                                                                                                                                                                                                                                                     Harris Theater Seatmap Chicago Opera Theater Chicago Harris Theater Seating Chart English Shen Yun Harris Theater 2019 Seating Chart Chicago Gay Mens Chorus Harris Theater Chicago Gay Mens Harris Theater Chicago Il Seating Chart Stage Chicago Gay Mens Chorus Harris Theater Chicago Gay Mens Photos At Harris Theater Harris Theater Tickets In Chicago Illinois Harris Theater Seat Map Chicago Opera Theater Harris Theater For Music And Dance Seating Chart Genuine Harris Center Seating Maps Photos At Harris Theater Harris Theater Chicago Wikipedia Harris Center Seating Maps Cibc Theatre Seating Chart Hamilton Seat Views Tickpick Harris Theater Chicago Wikipedia Hubbard Street Dance Chicago Packages Harris Theater Chicago Seating Chart Related Keywords Broadway In Chicago Wikiwand Your A To Z Guide To Broadway Theater Seating Charts Your A To Z Guide To Broadway Theater Seating Charts Map Of Millennium Park Plan Your Experience The Grant Seating Charts United Center Lyric Opera Seating Chart Lyric Opera Of Chicago Upcoming Events At The Copernicus Center In Chicago Chicago United Center View From Section 301 Row 8 Seat 15 Meticulous Young Auditorium Seating Chart Rosemont Rosemont Theatre Seating Chart English Shen Yun Millennium Park In Chicago Find Park Info Art Events Tours Broadway Seating Map Paramount Theatre Seat Map Chicago Opera Theater Your A To Z Guide To Broadway Theater Seating Charts Albert Theatre Goodman Theatre Chicago Theatre Seating Chart With Seat Numbers Tickpick Seating Chart Arcada Theatre Harris Theater Seating Chart Awesome The 10 Best Restaurants Lyric Opera Seating Chart Lyric Opera Of Chicago Grand Theatre Wolverhampton Swansea Grand Theatre Grand Cibc Theatre Chicago Tickets Schedule Seating Chart Directions Lookingglass Theatre Seating Chart Theatre In Chicago Seating Chart Auditorium Theatre Harris Theater Chicago Wikipedia James M Nederlander Theatre Seating Chart James M Harris Center Seating Maps Seating Chart Arie Crown Theater Oreilly Theater Briar Street Theater Seating Chart Chicago Harris Theater Seating Chart Awesome The 10 Best Restaurants Bmo Harris Bank Center Tickets And Bmo Harris Bank Center  \n",
       "2                                                                                                                                                                                                                                                                                                                                                                                                                                                                                                                                                                                                                                                                                                                                                                                                                                                                                                                                                         Published: December 14, 2020 nanjan\\nWe're not exactly sure what's going here, but we have a pretty good idea. What do you think the story is with these photos?\\nAbout a month ago, I joined a public Facebook group called, ILLINOIS Abandoned Images .\\n\"The beauty in the old, simplicity, the forgotten, is something to be cherished and never forgotten. It tells our story and we must listen.\\nPeople share photos of Illinois' abandoned houses, farms, commercial buildings, and just about anything else that we've just ignored and left behind. I've lost quite a bit of time looking at some pretty remarkable photos. The only rule for being a part of this group, besides acting like a respectable adult, appears to be that you don't share (or ask) for addresses.\\nOver the weekend, one member shared a couple photos of this Oldsmobile 442 that was just left behind. The stories that muscle car could tell... if cars could talk. I'd like to know the story of how a tree just grew right through it. At some point, you'd think the owner would say, \"damn, there's a tree growing through my 442, I've got to move her.\" But that clearly didn't happen. And, why is it still there? It's not like that tree just grew that big overnight. ILLINOIS Abandoned Images (Troy Shepard) ILLINOIS Abandoned Images (Troy Shepard)\\nWhat do you think the story might be?\\nSteve Shannon is host of The Steve Shannon Show on 97ZOK. On the air weekday mornings from 6 to 10 a.m. and a special 'Rewind' show, featuring favorite moments from previous shows, on Saturday mornings from 5 to 7 a.m.. Follow him on Twitter , Instagram , and like his page on Facebook .  \n",
       "3                                                                                                                                                                                                                                                                                                                                                                                                                                                                                                                                                                                                                                                                                                                                                                                                                                                                                    National News FILE - This May 4, 2010 file photo shows Fox News Channel's Wendell Goler in the White House briefing room in Washington. Goler, a longtime White House correspondent for Fox News Channel who reported on government since the presidency of Ronald Reagan, died this week of apparent kidney failure. He was 70. (AP Photo/Charles Dharapak, File) Thursday, March 5, 2020 1:09 PM EST By The Associated Press, AP\\nNEW YORK (AP) — Wendell Goler, a longtime White House correspondent for Fox News Channel who reported on government since the presidency of Ronald Reagan, has died at age 70.\\nHe died this week of apparent kidney failure, said a former Fox colleague, Brit Hume.\\nGoler was a Fox News original, joining the network at its inception in 1996 and working his way up to senior White House foreign affairs correspondent. He retired in 2014. He worked for The Associated Press and Washington-area television stations before joining Fox.\\nHe was a panelist for Republican presidential debates in South Carolina and New Hampshire in 2007, and interviewed Hillary Clinton when she was secretary of state, and former First Lady Laura Bush.\\n“Wendell was a gifted correspondent, a wonderful colleague and a Fox News original whose reporting was respected on both sides of the aisle,\" said Suzanne Scott, CEO of Fox News Media. \"We extend our deepest condolences to his wife Marge and his entire family.”\\nGoler jokingly referred to himself as a “dinosaur” upon his retirement but said he was glad to work during a golden era in broadcasting.\\nHume called Goler a valued friend who “did consistently solid and balanced work and his reports were always well-crafted, clear and easy to follow.” AP   \n",
       "4                                                                                                                                                                                                                                                                                                                                                                                                                                                                                                                                                                                                                                                                                                                                                                                                                                                                                                                                                                                                                                                                                                                                                                                                                                                                                                                                                                                                                                                                                                                                                                                                                                                                                                                                                                                                                                                                                                                                                                                                                                                                                                                                                                                                                                                                                                                                                                                                                    I am looking forward to many things in 2021. Illinois basketball returning to the tournament, if I’m being honest, is higher than I’d like to admit. We made it, everyone. We made it through.\\nHere are this week’s stories:\\nSATURDAY  "
      ]
     },
     "execution_count": 4,
     "metadata": {},
     "output_type": "execute_result"
    }
   ],
   "source": [
    "df_news.head()"
   ]
  },
  {
   "cell_type": "code",
   "execution_count": 5,
   "metadata": {},
   "outputs": [],
   "source": [
    "# Remove special characters to avoid problems with analysis\n",
    "df_news['text_clean'] = df_news['text'].map(lambda x: re.sub('[^a-zA-Z0-9 @ . , : - _]', '', str(x)))"
   ]
  },
  {
   "cell_type": "code",
   "execution_count": 6,
   "metadata": {},
   "outputs": [],
   "source": [
    "# we will use 10% of the total articles to get the topics and then train a classifier\n",
    "\n",
    "df_sample = df_news.sample(frac = 0.1, random_state = 42)"
   ]
  },
  {
   "cell_type": "code",
   "execution_count": 7,
   "metadata": {
    "scrolled": true
   },
   "outputs": [
    {
     "data": {
      "text/plain": [
       "['Chicago Theatre Seating Chart With Seat Numbers Tickpick Chicago Theatre Seating Chart Theatre In Chicago 47 All Inclusive The Chicago Theater Seating Cibc Theatre Seating Chart Hamilton Seat Views Tickpick Cibc Theatre Seating Chart Theatre In Chicago Cibc Theatre Seating Chart Hamilton Seat Views Tickpick Chicago Theatre Seating Chart With Seat Numbers Tickpick Nederlander Theatre Seating Chart Theatre In Chicago The Chicago Theatre Seat Map Msg Official Site Shubert Theatre Seating Chart Best Seats Pro Tips And More Cadillac Palace Theatre Seating Chart Theatre In Chicago St James Theatre Seating Chart Frozen Guide Best Seats Chicago Theater Seating Chart Balcony Image Balcony And Winter Garden Theatre Online Charts Collection Athenaeum Theatre Main Stage Seating Chart Theatre In Spectrum Center Seating Chart With Seat Numbers Seating Chart Individual Tickets Amalie Arena Seating Chart With Rows Amalie Arena Seating Chart With Rows And Seat Numbers Chicago Theater Seating Chart Main Floor Best Of Folger Seating Chart Greek Theatre Venue Seating Charts 101 9fm The Mix Wtmx Chicago Theatre Seat Numbers Online Charts Collection 2 Tickets Hamilton 6 1 19 Cibc Theatre Chicago Il Ebay Allstate Arena Seat Row Numbers Detailed Seating Chart Lyric Opera Seating Chart Lyric Opera Of Chicago Chicago United Center Seat Numbers Detailed Seating Plan Ambassador Theatre Seating Chart Chicago Tickets Reviews 10 Things We Learned Buying Hamilton Chicago Tickets Image Result For Altria Theater Detailed Seating Chart 25 Elegant Scottrade Center Detailed Seating Chart Seaket Com Seating Chart Seat Number Spac Seating Chart Hd Png Lyric Opera Seating Chart Lyric Opera Of Chicago Seating Plan Lyric Theatre Rational The Majestic Seating Chart Chicago Theatre Seating Music Box Theatre Seating Chart Best Seats Pro Tips And 70 Clean Booth Playhouse Seating Chart Seating Chart Free Png Download Seat Number Rosemont Theater Seating Venue Seating Charts 101 9fm The Mix Wtmx Chicago 71 Best Of Image Of Warner Theatre Seating Chart The Chicago Theatre Chicago Il Seating Chart Stage Section 101 Gila River Arena Seating Chart With Seat Music Theater Seat Online Charts Collection 66 Prototypical Atlanta Hawks Arena Seating Chart Seating Chart Riviera Theatre Seating Chart And Events Schedule Systematic Seat Map Of B1 Msg Seating Chart With Seat Numbers Www Bedowntowndaytona Com Scotiabank Arena Seating Chart Rows Seat Numbers And Club The Most Amazing As Well As Lovely Staples Center Seating Chicago Theatre Main Floor 3l Rateyourseats Com',\n",
       " 'Harris Theater Seatmap Chicago Opera Theater Chicago Harris Theater Seating Chart English Shen Yun Harris Theater 2019 Seating Chart Chicago Gay Mens Chorus Harris Theater Chicago Gay Mens Harris Theater Chicago Il Seating Chart Stage Chicago Gay Mens Chorus Harris Theater Chicago Gay Mens Photos At Harris Theater Harris Theater Tickets In Chicago Illinois Harris Theater Seat Map Chicago Opera Theater Harris Theater For Music And Dance Seating Chart Genuine Harris Center Seating Maps Photos At Harris Theater Harris Theater Chicago Wikipedia Harris Center Seating Maps Cibc Theatre Seating Chart Hamilton Seat Views Tickpick Harris Theater Chicago Wikipedia Hubbard Street Dance Chicago Packages Harris Theater Chicago Seating Chart Related Keywords Broadway In Chicago Wikiwand Your A To Z Guide To Broadway Theater Seating Charts Your A To Z Guide To Broadway Theater Seating Charts Map Of Millennium Park Plan Your Experience The Grant Seating Charts United Center Lyric Opera Seating Chart Lyric Opera Of Chicago Upcoming Events At The Copernicus Center In Chicago Chicago United Center View From Section 301 Row 8 Seat 15 Meticulous Young Auditorium Seating Chart Rosemont Rosemont Theatre Seating Chart English Shen Yun Millennium Park In Chicago Find Park Info Art Events Tours Broadway Seating Map Paramount Theatre Seat Map Chicago Opera Theater Your A To Z Guide To Broadway Theater Seating Charts Albert Theatre Goodman Theatre Chicago Theatre Seating Chart With Seat Numbers Tickpick Seating Chart Arcada Theatre Harris Theater Seating Chart Awesome The 10 Best Restaurants Lyric Opera Seating Chart Lyric Opera Of Chicago Grand Theatre Wolverhampton Swansea Grand Theatre Grand Cibc Theatre Chicago Tickets Schedule Seating Chart Directions Lookingglass Theatre Seating Chart Theatre In Chicago Seating Chart Auditorium Theatre Harris Theater Chicago Wikipedia James M Nederlander Theatre Seating Chart James M Harris Center Seating Maps Seating Chart Arie Crown Theater Oreilly Theater Briar Street Theater Seating Chart Chicago Harris Theater Seating Chart Awesome The 10 Best Restaurants Bmo Harris Bank Center Tickets And Bmo Harris Bank Center',\n",
       " 'Published: December 14, 2020 nanjanWere not exactly sure whats going here, but we have a pretty good idea. What do you think the story is with these photosAbout a month ago, I joined a public Facebook group called, ILLINOIS Abandoned Images .The beauty in the old, simplicity, the forgotten, is something to be cherished and never forgotten. It tells our story and we must listen.People share photos of Illinois abandoned houses, farms, commercial buildings, and just about anything else that weve just ignored and left behind. Ive lost quite a bit of time looking at some pretty remarkable photos. The only rule for being a part of this group, besides acting like a respectable adult, appears to be that you dont share or ask for addresses.Over the weekend, one member shared a couple photos of this Oldsmobile 442 that was just left behind. The stories that muscle car could tell... if cars could talk. Id like to know the story of how a tree just grew right through it. At some point, youd think the owner would say, damn, theres a tree growing through my 442, Ive got to move her. But that clearly didnt happen. And, why is it still there Its not like that tree just grew that big overnight. ILLINOIS Abandoned Images Troy Shepard ILLINOIS Abandoned Images Troy ShepardWhat do you think the story might beSteve Shannon is host of The Steve Shannon Show on 97ZOK. On the air weekday mornings from 6 to 10 a.m. and a special Rewind show, featuring favorite moments from previous shows, on Saturday mornings from 5 to 7 a.m.. Follow him on Twitter , Instagram , and like his page on Facebook .',\n",
       " 'National News FILE  This May 4, 2010 file photo shows Fox News Channels Wendell Goler in the White House briefing room in Washington. Goler, a longtime White House correspondent for Fox News Channel who reported on government since the presidency of Ronald Reagan, died this week of apparent kidney failure. He was 70. AP PhotoCharles Dharapak, File Thursday, March 5, 2020 1:09 PM EST By The Associated Press, APNEW YORK AP  Wendell Goler, a longtime White House correspondent for Fox News Channel who reported on government since the presidency of Ronald Reagan, has died at age 70.He died this week of apparent kidney failure, said a former Fox colleague, Brit Hume.Goler was a Fox News original, joining the network at its inception in 1996 and working his way up to senior White House foreign affairs correspondent. He retired in 2014. He worked for The Associated Press and Washingtonarea television stations before joining Fox.He was a panelist for Republican presidential debates in South Carolina and New Hampshire in 2007, and interviewed Hillary Clinton when she was secretary of state, and former First Lady Laura Bush.Wendell was a gifted correspondent, a wonderful colleague and a Fox News original whose reporting was respected on both sides of the aisle, said Suzanne Scott, CEO of Fox News Media. We extend our deepest condolences to his wife Marge and his entire family.Goler jokingly referred to himself as a dinosaur upon his retirement but said he was glad to work during a golden era in broadcasting.Hume called Goler a valued friend who did consistently solid and balanced work and his reports were always wellcrafted, clear and easy to follow. AP ',\n",
       " 'I am looking forward to many things in 2021. Illinois basketball returning to the tournament, if Im being honest, is higher than Id like to admit. We made it, everyone. We made it through.Here are this weeks stories:SATURDAY']"
      ]
     },
     "execution_count": 7,
     "metadata": {},
     "output_type": "execute_result"
    }
   ],
   "source": [
    "#texts = df_sample['text_clean'].tolist()\n",
    "texts = df_news['text_clean'].tolist()\n",
    "texts[:5]"
   ]
  },
  {
   "cell_type": "code",
   "execution_count": 8,
   "metadata": {},
   "outputs": [
    {
     "name": "stdout",
     "output_type": "stream",
     "text": [
      "lang: en\n",
      "preprocessing texts...\n",
      "fitting model...\n",
      "iteration: 1 of max_iter: 5\n",
      "iteration: 2 of max_iter: 5\n",
      "iteration: 3 of max_iter: 5\n",
      "iteration: 4 of max_iter: 5\n",
      "iteration: 5 of max_iter: 5\n",
      "done.\n",
      "Wall time: 46min 50s\n"
     ]
    }
   ],
   "source": [
    "%%time\n",
    "tm = ktrain.text.get_topic_model(\n",
    "    texts=texts, \n",
    "    n_topics=50, \n",
    "    n_features=10000, \n",
    "    min_df=5, \n",
    "    max_df=0.5, \n",
    "    stop_words='english', \n",
    "    model_type='lda', \n",
    "    lda_max_iter=5, \n",
    "    verbose=1)"
   ]
  },
  {
   "cell_type": "code",
   "execution_count": 9,
   "metadata": {},
   "outputs": [
    {
     "name": "stdout",
     "output_type": "stream",
     "text": [
      "topic 0 | football sports smith jackson stadium memorial field brown saturday camp\n",
      "topic 1 | online com free email website information post site contact link\n",
      "topic 2 | food restaurant restaurants store bar stores pizza dining menu delivery\n",
      "topic 3 | illinois state illini big team game coach michigan basketball college\n",
      "topic 4 | news media twitter cbs fox nbc video facebook read ago\n",
      "topic 5 | hair air home repair auto extensions clean area control kitchen\n",
      "topic 6 | health university care medical patients center research illinois hospital program\n",
      "topic 7 | shares stock quarter tool rating illinois works company price companys\n",
      "topic 8 | photos flickr gutter gutters class thompson explore bauer cleaning uploaded\n",
      "topic 9 | garage sign door newsletter email southern time breaking alerts heights\n",
      "topic 10 | illinois state election house vote press democratic republican associated rep\n",
      "topic 11 | roofing roof commercial loan loans time just make home use\n",
      "topic 12 | illinois state live southern florida missouri texas iowa south northern\n",
      "topic 13 | shot police shooting man said block south people condition hospital\n",
      "topic 14 | percent scott saw differences miller story mentioned log account time\n",
      "topic 15 | county illinois cook female male counties lake peoria dupage cases\n",
      "topic 16 | work job service need best jobs provide training help time\n",
      "topic 17 | photo day oct file nov feb jan posted tribune dec\n",
      "topic 18 | company business new companies industry services development technology said customers\n",
      "topic 19 | white sox field left second anderson jose right center singles\n",
      "topic 20 | cubs game season baseball runs home games series era league\n",
      "topic 21 | cases rate vaccine covid19 illinois deaths reported positivity days region\n",
      "topic 22 | like time just great new good way make look best\n",
      "topic 23 | art seating chart museum music tickets theatre center theater festival\n",
      "topic 24 | illinois state million tax said year states money billion program\n",
      "topic 25 | said just going like know people dont think thats really\n",
      "topic 26 | experience business management skills marketing data work team job including\n",
      "topic 27 | energy gas power electric med plants illinois bridge plant oil\n",
      "topic 28 | said trump president union federal donald cps public house agreement\n",
      "topic 29 | real estate sale broker information data logo properties reciprocity mred\n",
      "topic 30 | points game games scored rebounds second assists lead win season\n",
      "topic 31 | said car vehicle police home died people told according driver\n",
      "topic 32 | bears season game yards team week nfl play defense quarterback\n",
      "topic 33 | said charged charges court murder trial judge case prosecutors attorney\n",
      "topic 34 | https www http com davis html jpg casey twitter ift\n",
      "topic 35 | new city york day airport friday sunday travel saturday march\n",
      "topic 36 | district school community unit consolidated high special education township county\n",
      "topic 37 | park city hotel lake street building north lincoln river michigan\n",
      "topic 38 | credit illinois debt counseling marijuana cannabis consumer service card help\n",
      "topic 39 | family life film new series story love season movie years\n",
      "topic 40 | water area weather illinois church naperville village service river near\n",
      "topic 41 | bulls team season blackhawks game games nba sports players teams\n",
      "topic 42 | market data report growth sales exchange price global index prices\n",
      "topic 43 | law court illinois legal state filed attorney lawsuit order act\n",
      "topic 44 | said covid19 coronavirus health people illinois pandemic state pritzker public\n",
      "topic 45 | police officers officer said department video johnson protests superintendent brown\n",
      "topic 46 | illinois department employees working public pay office employee paid data\n",
      "topic 47 | event year world october american years west events september new\n",
      "topic 48 | city mayor lightfoot black people said lori community citys chicagos\n",
      "topic 49 | students school schools teachers education children student learning parents said\n"
     ]
    }
   ],
   "source": [
    "tm.print_topics()"
   ]
  },
  {
   "cell_type": "code",
   "execution_count": 10,
   "metadata": {},
   "outputs": [
    {
     "name": "stdout",
     "output_type": "stream",
     "text": [
      "done.\n",
      "Wall time: 7min 36s\n"
     ]
    }
   ],
   "source": [
    "%%time\n",
    "#tm.build(texts, threshold=0.25)\n",
    "tm.build(texts)"
   ]
  },
  {
   "cell_type": "code",
   "execution_count": 12,
   "metadata": {},
   "outputs": [],
   "source": [
    "df_news.reset_index(inplace=True)"
   ]
  },
  {
   "cell_type": "code",
   "execution_count": 13,
   "metadata": {},
   "outputs": [],
   "source": [
    "def get_topics_articles(idx):\n",
    "#     print(idx)\n",
    "#     print([idx])\n",
    "    return np.argmax(tm.get_doctopics(doc_ids=[idx]))"
   ]
  },
  {
   "cell_type": "code",
   "execution_count": 21,
   "metadata": {},
   "outputs": [],
   "source": [
    "#df_news['topics'] = df_news.apply(lambda x: np.argmax(tm.get_doctopics(doc_ids=x['index']),axis=1))\n",
    "\n",
    "#df_news.apply(lambda x: print(x['index']),axis=1)\n",
    "\n",
    "df_news['topics'] = df_news.apply(lambda x: get_topics_articles(x['index']), axis=1)"
   ]
  },
  {
   "cell_type": "code",
   "execution_count": null,
   "metadata": {},
   "outputs": [],
   "source": [
    "np.argmax(tm.get_doctopics(doc_ids=[0]))"
   ]
  },
  {
   "cell_type": "code",
   "execution_count": null,
   "metadata": {},
   "outputs": [],
   "source": [
    "df_news['text_clean'].isnull().values.any()"
   ]
  },
  {
   "cell_type": "code",
   "execution_count": null,
   "metadata": {},
   "outputs": [],
   "source": [
    "#df_news['topic'] = df_news.apply(lambda x: tm.predict(list(x['text_clean'])), axis = 1)"
   ]
  },
  {
   "cell_type": "code",
   "execution_count": 22,
   "metadata": {},
   "outputs": [
    {
     "data": {
      "text/html": [
       "<div>\n",
       "<style scoped>\n",
       "    .dataframe tbody tr th:only-of-type {\n",
       "        vertical-align: middle;\n",
       "    }\n",
       "\n",
       "    .dataframe tbody tr th {\n",
       "        vertical-align: top;\n",
       "    }\n",
       "\n",
       "    .dataframe thead th {\n",
       "        text-align: right;\n",
       "    }\n",
       "</style>\n",
       "<table border=\"1\" class=\"dataframe\">\n",
       "  <thead>\n",
       "    <tr style=\"text-align: right;\">\n",
       "      <th></th>\n",
       "      <th>index</th>\n",
       "      <th>date</th>\n",
       "      <th>language</th>\n",
       "      <th>title</th>\n",
       "      <th>text</th>\n",
       "      <th>text_clean</th>\n",
       "      <th>topics</th>\n",
       "    </tr>\n",
       "  </thead>\n",
       "  <tbody>\n",
       "    <tr>\n",
       "      <th>0</th>\n",
       "      <td>0</td>\n",
       "      <td>2021-07-23</td>\n",
       "      <td>english</td>\n",
       "      <td>chicago theater seating chart with seat numbers</td>\n",
       "      <td>Chicago Theatre Seating Chart With Seat Numbers Tickpick Chicago Theatre Seating Chart Theatre In Chicago 47 All Inclusive The Chicago Theater Seating Cibc Theatre Seating Chart Hamilton Seat Views Tickpick Cibc Theatre Seating Chart Theatre In Chicago Cibc Theatre Seating Chart Hamilton Seat Views Tickpick Chicago Theatre Seating Chart With Seat Numbers Tickpick Nederlander Theatre Seating Chart Theatre In Chicago The Chicago Theatre Seat Map Msg Official Site Shubert Theatre Seating Chart Best Seats Pro Tips And More Cadillac Palace Theatre Seating Chart Theatre In Chicago St James Theatre Seating Chart Frozen Guide Best Seats Chicago Theater Seating Chart Balcony Image Balcony And Winter Garden Theatre Online Charts Collection Athenaeum Theatre Main Stage Seating Chart Theatre In Spectrum Center Seating Chart With Seat Numbers Seating Chart Individual Tickets Amalie Arena Seating Chart With Rows Amalie Arena Seating Chart With Rows And Seat Numbers Chicago Theater Seating Chart Main Floor Best Of Folger Seating Chart Greek Theatre Venue Seating Charts 101 9fm The Mix Wtmx Chicago Theatre Seat Numbers Online Charts Collection 2 Tickets Hamilton 6 1 19 Cibc Theatre Chicago Il Ebay Allstate Arena Seat Row Numbers Detailed Seating Chart Lyric Opera Seating Chart Lyric Opera Of Chicago Chicago United Center Seat Numbers Detailed Seating Plan Ambassador Theatre Seating Chart Chicago Tickets Reviews 10 Things We Learned Buying Hamilton Chicago Tickets Image Result For Altria Theater Detailed Seating Chart 25 Elegant Scottrade Center Detailed Seating Chart Seaket Com Seating Chart Seat Number Spac Seating Chart Hd Png Lyric Opera Seating Chart Lyric Opera Of Chicago Seating Plan Lyric Theatre Rational The Majestic Seating Chart Chicago Theatre Seating Music Box Theatre Seating Chart Best Seats Pro Tips And 70 Clean Booth Playhouse Seating Chart Seating Chart Free Png Download Seat Number Rosemont Theater Seating Venue Seating Charts 101 9fm The Mix Wtmx Chicago 71 Best Of Image Of Warner Theatre Seating Chart The Chicago Theatre Chicago Il Seating Chart Stage Section 101 Gila River Arena Seating Chart With Seat Music Theater Seat Online Charts Collection 66 Prototypical Atlanta Hawks Arena Seating Chart Seating Chart Riviera Theatre Seating Chart And Events Schedule Systematic Seat Map Of B1 Msg Seating Chart With Seat Numbers Www Bedowntowndaytona Com Scotiabank Arena Seating Chart Rows Seat Numbers And Club The Most Amazing As Well As Lovely Staples Center Seating Chicago Theatre Main Floor 3l Rateyourseats Com</td>\n",
       "      <td>Chicago Theatre Seating Chart With Seat Numbers Tickpick Chicago Theatre Seating Chart Theatre In Chicago 47 All Inclusive The Chicago Theater Seating Cibc Theatre Seating Chart Hamilton Seat Views Tickpick Cibc Theatre Seating Chart Theatre In Chicago Cibc Theatre Seating Chart Hamilton Seat Views Tickpick Chicago Theatre Seating Chart With Seat Numbers Tickpick Nederlander Theatre Seating Chart Theatre In Chicago The Chicago Theatre Seat Map Msg Official Site Shubert Theatre Seating Chart Best Seats Pro Tips And More Cadillac Palace Theatre Seating Chart Theatre In Chicago St James Theatre Seating Chart Frozen Guide Best Seats Chicago Theater Seating Chart Balcony Image Balcony And Winter Garden Theatre Online Charts Collection Athenaeum Theatre Main Stage Seating Chart Theatre In Spectrum Center Seating Chart With Seat Numbers Seating Chart Individual Tickets Amalie Arena Seating Chart With Rows Amalie Arena Seating Chart With Rows And Seat Numbers Chicago Theater Seating Chart Main Floor Best Of Folger Seating Chart Greek Theatre Venue Seating Charts 101 9fm The Mix Wtmx Chicago Theatre Seat Numbers Online Charts Collection 2 Tickets Hamilton 6 1 19 Cibc Theatre Chicago Il Ebay Allstate Arena Seat Row Numbers Detailed Seating Chart Lyric Opera Seating Chart Lyric Opera Of Chicago Chicago United Center Seat Numbers Detailed Seating Plan Ambassador Theatre Seating Chart Chicago Tickets Reviews 10 Things We Learned Buying Hamilton Chicago Tickets Image Result For Altria Theater Detailed Seating Chart 25 Elegant Scottrade Center Detailed Seating Chart Seaket Com Seating Chart Seat Number Spac Seating Chart Hd Png Lyric Opera Seating Chart Lyric Opera Of Chicago Seating Plan Lyric Theatre Rational The Majestic Seating Chart Chicago Theatre Seating Music Box Theatre Seating Chart Best Seats Pro Tips And 70 Clean Booth Playhouse Seating Chart Seating Chart Free Png Download Seat Number Rosemont Theater Seating Venue Seating Charts 101 9fm The Mix Wtmx Chicago 71 Best Of Image Of Warner Theatre Seating Chart The Chicago Theatre Chicago Il Seating Chart Stage Section 101 Gila River Arena Seating Chart With Seat Music Theater Seat Online Charts Collection 66 Prototypical Atlanta Hawks Arena Seating Chart Seating Chart Riviera Theatre Seating Chart And Events Schedule Systematic Seat Map Of B1 Msg Seating Chart With Seat Numbers Www Bedowntowndaytona Com Scotiabank Arena Seating Chart Rows Seat Numbers And Club The Most Amazing As Well As Lovely Staples Center Seating Chicago Theatre Main Floor 3l Rateyourseats Com</td>\n",
       "      <td>23</td>\n",
       "    </tr>\n",
       "    <tr>\n",
       "      <th>1</th>\n",
       "      <td>1</td>\n",
       "      <td>2021-07-24</td>\n",
       "      <td>english</td>\n",
       "      <td>harris theater chicago seating chart</td>\n",
       "      <td>Harris Theater Seatmap Chicago Opera Theater Chicago Harris Theater Seating Chart English Shen Yun Harris Theater 2019 Seating Chart Chicago Gay Mens Chorus Harris Theater Chicago Gay Mens Harris Theater Chicago Il Seating Chart Stage Chicago Gay Mens Chorus Harris Theater Chicago Gay Mens Photos At Harris Theater Harris Theater Tickets In Chicago Illinois Harris Theater Seat Map Chicago Opera Theater Harris Theater For Music And Dance Seating Chart Genuine Harris Center Seating Maps Photos At Harris Theater Harris Theater Chicago Wikipedia Harris Center Seating Maps Cibc Theatre Seating Chart Hamilton Seat Views Tickpick Harris Theater Chicago Wikipedia Hubbard Street Dance Chicago Packages Harris Theater Chicago Seating Chart Related Keywords Broadway In Chicago Wikiwand Your A To Z Guide To Broadway Theater Seating Charts Your A To Z Guide To Broadway Theater Seating Charts Map Of Millennium Park Plan Your Experience The Grant Seating Charts United Center Lyric Opera Seating Chart Lyric Opera Of Chicago Upcoming Events At The Copernicus Center In Chicago Chicago United Center View From Section 301 Row 8 Seat 15 Meticulous Young Auditorium Seating Chart Rosemont Rosemont Theatre Seating Chart English Shen Yun Millennium Park In Chicago Find Park Info Art Events Tours Broadway Seating Map Paramount Theatre Seat Map Chicago Opera Theater Your A To Z Guide To Broadway Theater Seating Charts Albert Theatre Goodman Theatre Chicago Theatre Seating Chart With Seat Numbers Tickpick Seating Chart Arcada Theatre Harris Theater Seating Chart Awesome The 10 Best Restaurants Lyric Opera Seating Chart Lyric Opera Of Chicago Grand Theatre Wolverhampton Swansea Grand Theatre Grand Cibc Theatre Chicago Tickets Schedule Seating Chart Directions Lookingglass Theatre Seating Chart Theatre In Chicago Seating Chart Auditorium Theatre Harris Theater Chicago Wikipedia James M Nederlander Theatre Seating Chart James M Harris Center Seating Maps Seating Chart Arie Crown Theater Oreilly Theater Briar Street Theater Seating Chart Chicago Harris Theater Seating Chart Awesome The 10 Best Restaurants Bmo Harris Bank Center Tickets And Bmo Harris Bank Center</td>\n",
       "      <td>Harris Theater Seatmap Chicago Opera Theater Chicago Harris Theater Seating Chart English Shen Yun Harris Theater 2019 Seating Chart Chicago Gay Mens Chorus Harris Theater Chicago Gay Mens Harris Theater Chicago Il Seating Chart Stage Chicago Gay Mens Chorus Harris Theater Chicago Gay Mens Photos At Harris Theater Harris Theater Tickets In Chicago Illinois Harris Theater Seat Map Chicago Opera Theater Harris Theater For Music And Dance Seating Chart Genuine Harris Center Seating Maps Photos At Harris Theater Harris Theater Chicago Wikipedia Harris Center Seating Maps Cibc Theatre Seating Chart Hamilton Seat Views Tickpick Harris Theater Chicago Wikipedia Hubbard Street Dance Chicago Packages Harris Theater Chicago Seating Chart Related Keywords Broadway In Chicago Wikiwand Your A To Z Guide To Broadway Theater Seating Charts Your A To Z Guide To Broadway Theater Seating Charts Map Of Millennium Park Plan Your Experience The Grant Seating Charts United Center Lyric Opera Seating Chart Lyric Opera Of Chicago Upcoming Events At The Copernicus Center In Chicago Chicago United Center View From Section 301 Row 8 Seat 15 Meticulous Young Auditorium Seating Chart Rosemont Rosemont Theatre Seating Chart English Shen Yun Millennium Park In Chicago Find Park Info Art Events Tours Broadway Seating Map Paramount Theatre Seat Map Chicago Opera Theater Your A To Z Guide To Broadway Theater Seating Charts Albert Theatre Goodman Theatre Chicago Theatre Seating Chart With Seat Numbers Tickpick Seating Chart Arcada Theatre Harris Theater Seating Chart Awesome The 10 Best Restaurants Lyric Opera Seating Chart Lyric Opera Of Chicago Grand Theatre Wolverhampton Swansea Grand Theatre Grand Cibc Theatre Chicago Tickets Schedule Seating Chart Directions Lookingglass Theatre Seating Chart Theatre In Chicago Seating Chart Auditorium Theatre Harris Theater Chicago Wikipedia James M Nederlander Theatre Seating Chart James M Harris Center Seating Maps Seating Chart Arie Crown Theater Oreilly Theater Briar Street Theater Seating Chart Chicago Harris Theater Seating Chart Awesome The 10 Best Restaurants Bmo Harris Bank Center Tickets And Bmo Harris Bank Center</td>\n",
       "      <td>23</td>\n",
       "    </tr>\n",
       "    <tr>\n",
       "      <th>2</th>\n",
       "      <td>2</td>\n",
       "      <td>2020-12-15</td>\n",
       "      <td>english</td>\n",
       "      <td>There's a Big Tree Growing Through a Car in Illinois</td>\n",
       "      <td>Published: December 14, 2020 nanjan\\nWe're not exactly sure what's going here, but we have a pretty good idea. What do you think the story is with these photos?\\nAbout a month ago, I joined a public Facebook group called, ILLINOIS Abandoned Images .\\n\"The beauty in the old, simplicity, the forgotten, is something to be cherished and never forgotten. It tells our story and we must listen.\\nPeople share photos of Illinois' abandoned houses, farms, commercial buildings, and just about anything else that we've just ignored and left behind. I've lost quite a bit of time looking at some pretty remarkable photos. The only rule for being a part of this group, besides acting like a respectable adult, appears to be that you don't share (or ask) for addresses.\\nOver the weekend, one member shared a couple photos of this Oldsmobile 442 that was just left behind. The stories that muscle car could tell... if cars could talk. I'd like to know the story of how a tree just grew right through it. At some point, you'd think the owner would say, \"damn, there's a tree growing through my 442, I've got to move her.\" But that clearly didn't happen. And, why is it still there? It's not like that tree just grew that big overnight. ILLINOIS Abandoned Images (Troy Shepard) ILLINOIS Abandoned Images (Troy Shepard)\\nWhat do you think the story might be?\\nSteve Shannon is host of The Steve Shannon Show on 97ZOK. On the air weekday mornings from 6 to 10 a.m. and a special 'Rewind' show, featuring favorite moments from previous shows, on Saturday mornings from 5 to 7 a.m.. Follow him on Twitter , Instagram , and like his page on Facebook .</td>\n",
       "      <td>Published: December 14, 2020 nanjanWere not exactly sure whats going here, but we have a pretty good idea. What do you think the story is with these photosAbout a month ago, I joined a public Facebook group called, ILLINOIS Abandoned Images .The beauty in the old, simplicity, the forgotten, is something to be cherished and never forgotten. It tells our story and we must listen.People share photos of Illinois abandoned houses, farms, commercial buildings, and just about anything else that weve just ignored and left behind. Ive lost quite a bit of time looking at some pretty remarkable photos. The only rule for being a part of this group, besides acting like a respectable adult, appears to be that you dont share or ask for addresses.Over the weekend, one member shared a couple photos of this Oldsmobile 442 that was just left behind. The stories that muscle car could tell... if cars could talk. Id like to know the story of how a tree just grew right through it. At some point, youd think the owner would say, damn, theres a tree growing through my 442, Ive got to move her. But that clearly didnt happen. And, why is it still there Its not like that tree just grew that big overnight. ILLINOIS Abandoned Images Troy Shepard ILLINOIS Abandoned Images Troy ShepardWhat do you think the story might beSteve Shannon is host of The Steve Shannon Show on 97ZOK. On the air weekday mornings from 6 to 10 a.m. and a special Rewind show, featuring favorite moments from previous shows, on Saturday mornings from 5 to 7 a.m.. Follow him on Twitter , Instagram , and like his page on Facebook .</td>\n",
       "      <td>25</td>\n",
       "    </tr>\n",
       "    <tr>\n",
       "      <th>3</th>\n",
       "      <td>3</td>\n",
       "      <td>2020-03-05</td>\n",
       "      <td>english</td>\n",
       "      <td>Former Fox White House reporter Wendell Goler dies | AM 560 The ANSWER - Chicago, IL</td>\n",
       "      <td>National News FILE - This May 4, 2010 file photo shows Fox News Channel's Wendell Goler in the White House briefing room in Washington. Goler, a longtime White House correspondent for Fox News Channel who reported on government since the presidency of Ronald Reagan, died this week of apparent kidney failure. He was 70. (AP Photo/Charles Dharapak, File) Thursday, March 5, 2020 1:09 PM EST By The Associated Press, AP\\nNEW YORK (AP) — Wendell Goler, a longtime White House correspondent for Fox News Channel who reported on government since the presidency of Ronald Reagan, has died at age 70.\\nHe died this week of apparent kidney failure, said a former Fox colleague, Brit Hume.\\nGoler was a Fox News original, joining the network at its inception in 1996 and working his way up to senior White House foreign affairs correspondent. He retired in 2014. He worked for The Associated Press and Washington-area television stations before joining Fox.\\nHe was a panelist for Republican presidential debates in South Carolina and New Hampshire in 2007, and interviewed Hillary Clinton when she was secretary of state, and former First Lady Laura Bush.\\n“Wendell was a gifted correspondent, a wonderful colleague and a Fox News original whose reporting was respected on both sides of the aisle,\" said Suzanne Scott, CEO of Fox News Media. \"We extend our deepest condolences to his wife Marge and his entire family.”\\nGoler jokingly referred to himself as a “dinosaur” upon his retirement but said he was glad to work during a golden era in broadcasting.\\nHume called Goler a valued friend who “did consistently solid and balanced work and his reports were always well-crafted, clear and easy to follow.” AP</td>\n",
       "      <td>National News FILE  This May 4, 2010 file photo shows Fox News Channels Wendell Goler in the White House briefing room in Washington. Goler, a longtime White House correspondent for Fox News Channel who reported on government since the presidency of Ronald Reagan, died this week of apparent kidney failure. He was 70. AP PhotoCharles Dharapak, File Thursday, March 5, 2020 1:09 PM EST By The Associated Press, APNEW YORK AP  Wendell Goler, a longtime White House correspondent for Fox News Channel who reported on government since the presidency of Ronald Reagan, has died at age 70.He died this week of apparent kidney failure, said a former Fox colleague, Brit Hume.Goler was a Fox News original, joining the network at its inception in 1996 and working his way up to senior White House foreign affairs correspondent. He retired in 2014. He worked for The Associated Press and Washingtonarea television stations before joining Fox.He was a panelist for Republican presidential debates in South Carolina and New Hampshire in 2007, and interviewed Hillary Clinton when she was secretary of state, and former First Lady Laura Bush.Wendell was a gifted correspondent, a wonderful colleague and a Fox News original whose reporting was respected on both sides of the aisle, said Suzanne Scott, CEO of Fox News Media. We extend our deepest condolences to his wife Marge and his entire family.Goler jokingly referred to himself as a dinosaur upon his retirement but said he was glad to work during a golden era in broadcasting.Hume called Goler a valued friend who did consistently solid and balanced work and his reports were always wellcrafted, clear and easy to follow. AP</td>\n",
       "      <td>28</td>\n",
       "    </tr>\n",
       "    <tr>\n",
       "      <th>4</th>\n",
       "      <td>4</td>\n",
       "      <td>2020-12-30</td>\n",
       "      <td>english</td>\n",
       "      <td>I am looking forward to many things in 2021. Illinois basketball...</td>\n",
       "      <td>I am looking forward to many things in 2021. Illinois basketball returning to the tournament, if I’m being honest, is higher than I’d like to admit. We made it, everyone. We made it through.\\nHere are this week’s stories:\\nSATURDAY</td>\n",
       "      <td>I am looking forward to many things in 2021. Illinois basketball returning to the tournament, if Im being honest, is higher than Id like to admit. We made it, everyone. We made it through.Here are this weeks stories:SATURDAY</td>\n",
       "      <td>22</td>\n",
       "    </tr>\n",
       "  </tbody>\n",
       "</table>\n",
       "</div>"
      ],
      "text/plain": [
       "   index       date language  \\\n",
       "0      0 2021-07-23  english   \n",
       "1      1 2021-07-24  english   \n",
       "2      2 2020-12-15  english   \n",
       "3      3 2020-03-05  english   \n",
       "4      4 2020-12-30  english   \n",
       "\n",
       "                                                                                  title  \\\n",
       "0                                       chicago theater seating chart with seat numbers   \n",
       "1                                                  harris theater chicago seating chart   \n",
       "2                                  There's a Big Tree Growing Through a Car in Illinois   \n",
       "3  Former Fox White House reporter Wendell Goler dies | AM 560 The ANSWER - Chicago, IL   \n",
       "4                   I am looking forward to many things in 2021. Illinois basketball...   \n",
       "\n",
       "                                                                                                                                                                                                                                                                                                                                                                                                                                                                                                                                                                                                                                                                                                                                                                                                                                                                                                                                                                                                                                                                                                                                                                                                                                                                                                                                                                                                                                                                                                                                                                                                                                                                                                                                                                                                                                                                                                                                                                                                                                                                                                                                                                                                                                                                                                                                                                                                                                                                                                                                                                                                                                                        text  \\\n",
       "0  Chicago Theatre Seating Chart With Seat Numbers Tickpick Chicago Theatre Seating Chart Theatre In Chicago 47 All Inclusive The Chicago Theater Seating Cibc Theatre Seating Chart Hamilton Seat Views Tickpick Cibc Theatre Seating Chart Theatre In Chicago Cibc Theatre Seating Chart Hamilton Seat Views Tickpick Chicago Theatre Seating Chart With Seat Numbers Tickpick Nederlander Theatre Seating Chart Theatre In Chicago The Chicago Theatre Seat Map Msg Official Site Shubert Theatre Seating Chart Best Seats Pro Tips And More Cadillac Palace Theatre Seating Chart Theatre In Chicago St James Theatre Seating Chart Frozen Guide Best Seats Chicago Theater Seating Chart Balcony Image Balcony And Winter Garden Theatre Online Charts Collection Athenaeum Theatre Main Stage Seating Chart Theatre In Spectrum Center Seating Chart With Seat Numbers Seating Chart Individual Tickets Amalie Arena Seating Chart With Rows Amalie Arena Seating Chart With Rows And Seat Numbers Chicago Theater Seating Chart Main Floor Best Of Folger Seating Chart Greek Theatre Venue Seating Charts 101 9fm The Mix Wtmx Chicago Theatre Seat Numbers Online Charts Collection 2 Tickets Hamilton 6 1 19 Cibc Theatre Chicago Il Ebay Allstate Arena Seat Row Numbers Detailed Seating Chart Lyric Opera Seating Chart Lyric Opera Of Chicago Chicago United Center Seat Numbers Detailed Seating Plan Ambassador Theatre Seating Chart Chicago Tickets Reviews 10 Things We Learned Buying Hamilton Chicago Tickets Image Result For Altria Theater Detailed Seating Chart 25 Elegant Scottrade Center Detailed Seating Chart Seaket Com Seating Chart Seat Number Spac Seating Chart Hd Png Lyric Opera Seating Chart Lyric Opera Of Chicago Seating Plan Lyric Theatre Rational The Majestic Seating Chart Chicago Theatre Seating Music Box Theatre Seating Chart Best Seats Pro Tips And 70 Clean Booth Playhouse Seating Chart Seating Chart Free Png Download Seat Number Rosemont Theater Seating Venue Seating Charts 101 9fm The Mix Wtmx Chicago 71 Best Of Image Of Warner Theatre Seating Chart The Chicago Theatre Chicago Il Seating Chart Stage Section 101 Gila River Arena Seating Chart With Seat Music Theater Seat Online Charts Collection 66 Prototypical Atlanta Hawks Arena Seating Chart Seating Chart Riviera Theatre Seating Chart And Events Schedule Systematic Seat Map Of B1 Msg Seating Chart With Seat Numbers Www Bedowntowndaytona Com Scotiabank Arena Seating Chart Rows Seat Numbers And Club The Most Amazing As Well As Lovely Staples Center Seating Chicago Theatre Main Floor 3l Rateyourseats Com   \n",
       "1                                                                                                                                                                                                                                                                                                                                                                                                     Harris Theater Seatmap Chicago Opera Theater Chicago Harris Theater Seating Chart English Shen Yun Harris Theater 2019 Seating Chart Chicago Gay Mens Chorus Harris Theater Chicago Gay Mens Harris Theater Chicago Il Seating Chart Stage Chicago Gay Mens Chorus Harris Theater Chicago Gay Mens Photos At Harris Theater Harris Theater Tickets In Chicago Illinois Harris Theater Seat Map Chicago Opera Theater Harris Theater For Music And Dance Seating Chart Genuine Harris Center Seating Maps Photos At Harris Theater Harris Theater Chicago Wikipedia Harris Center Seating Maps Cibc Theatre Seating Chart Hamilton Seat Views Tickpick Harris Theater Chicago Wikipedia Hubbard Street Dance Chicago Packages Harris Theater Chicago Seating Chart Related Keywords Broadway In Chicago Wikiwand Your A To Z Guide To Broadway Theater Seating Charts Your A To Z Guide To Broadway Theater Seating Charts Map Of Millennium Park Plan Your Experience The Grant Seating Charts United Center Lyric Opera Seating Chart Lyric Opera Of Chicago Upcoming Events At The Copernicus Center In Chicago Chicago United Center View From Section 301 Row 8 Seat 15 Meticulous Young Auditorium Seating Chart Rosemont Rosemont Theatre Seating Chart English Shen Yun Millennium Park In Chicago Find Park Info Art Events Tours Broadway Seating Map Paramount Theatre Seat Map Chicago Opera Theater Your A To Z Guide To Broadway Theater Seating Charts Albert Theatre Goodman Theatre Chicago Theatre Seating Chart With Seat Numbers Tickpick Seating Chart Arcada Theatre Harris Theater Seating Chart Awesome The 10 Best Restaurants Lyric Opera Seating Chart Lyric Opera Of Chicago Grand Theatre Wolverhampton Swansea Grand Theatre Grand Cibc Theatre Chicago Tickets Schedule Seating Chart Directions Lookingglass Theatre Seating Chart Theatre In Chicago Seating Chart Auditorium Theatre Harris Theater Chicago Wikipedia James M Nederlander Theatre Seating Chart James M Harris Center Seating Maps Seating Chart Arie Crown Theater Oreilly Theater Briar Street Theater Seating Chart Chicago Harris Theater Seating Chart Awesome The 10 Best Restaurants Bmo Harris Bank Center Tickets And Bmo Harris Bank Center   \n",
       "2                                                                                                                                                                                                                                                                                                                                                                                                                                                                                                                                                                                                                                                                                                                                                                                                                                                                                                                                                         Published: December 14, 2020 nanjan\\nWe're not exactly sure what's going here, but we have a pretty good idea. What do you think the story is with these photos?\\nAbout a month ago, I joined a public Facebook group called, ILLINOIS Abandoned Images .\\n\"The beauty in the old, simplicity, the forgotten, is something to be cherished and never forgotten. It tells our story and we must listen.\\nPeople share photos of Illinois' abandoned houses, farms, commercial buildings, and just about anything else that we've just ignored and left behind. I've lost quite a bit of time looking at some pretty remarkable photos. The only rule for being a part of this group, besides acting like a respectable adult, appears to be that you don't share (or ask) for addresses.\\nOver the weekend, one member shared a couple photos of this Oldsmobile 442 that was just left behind. The stories that muscle car could tell... if cars could talk. I'd like to know the story of how a tree just grew right through it. At some point, you'd think the owner would say, \"damn, there's a tree growing through my 442, I've got to move her.\" But that clearly didn't happen. And, why is it still there? It's not like that tree just grew that big overnight. ILLINOIS Abandoned Images (Troy Shepard) ILLINOIS Abandoned Images (Troy Shepard)\\nWhat do you think the story might be?\\nSteve Shannon is host of The Steve Shannon Show on 97ZOK. On the air weekday mornings from 6 to 10 a.m. and a special 'Rewind' show, featuring favorite moments from previous shows, on Saturday mornings from 5 to 7 a.m.. Follow him on Twitter , Instagram , and like his page on Facebook .   \n",
       "3                                                                                                                                                                                                                                                                                                                                                                                                                                                                                                                                                                                                                                                                                                                                                                                                                                                                                    National News FILE - This May 4, 2010 file photo shows Fox News Channel's Wendell Goler in the White House briefing room in Washington. Goler, a longtime White House correspondent for Fox News Channel who reported on government since the presidency of Ronald Reagan, died this week of apparent kidney failure. He was 70. (AP Photo/Charles Dharapak, File) Thursday, March 5, 2020 1:09 PM EST By The Associated Press, AP\\nNEW YORK (AP) — Wendell Goler, a longtime White House correspondent for Fox News Channel who reported on government since the presidency of Ronald Reagan, has died at age 70.\\nHe died this week of apparent kidney failure, said a former Fox colleague, Brit Hume.\\nGoler was a Fox News original, joining the network at its inception in 1996 and working his way up to senior White House foreign affairs correspondent. He retired in 2014. He worked for The Associated Press and Washington-area television stations before joining Fox.\\nHe was a panelist for Republican presidential debates in South Carolina and New Hampshire in 2007, and interviewed Hillary Clinton when she was secretary of state, and former First Lady Laura Bush.\\n“Wendell was a gifted correspondent, a wonderful colleague and a Fox News original whose reporting was respected on both sides of the aisle,\" said Suzanne Scott, CEO of Fox News Media. \"We extend our deepest condolences to his wife Marge and his entire family.”\\nGoler jokingly referred to himself as a “dinosaur” upon his retirement but said he was glad to work during a golden era in broadcasting.\\nHume called Goler a valued friend who “did consistently solid and balanced work and his reports were always well-crafted, clear and easy to follow.” AP    \n",
       "4                                                                                                                                                                                                                                                                                                                                                                                                                                                                                                                                                                                                                                                                                                                                                                                                                                                                                                                                                                                                                                                                                                                                                                                                                                                                                                                                                                                                                                                                                                                                                                                                                                                                                                                                                                                                                                                                                                                                                                                                                                                                                                                                                                                                                                                                                                                                                                                                                    I am looking forward to many things in 2021. Illinois basketball returning to the tournament, if I’m being honest, is higher than I’d like to admit. We made it, everyone. We made it through.\\nHere are this week’s stories:\\nSATURDAY   \n",
       "\n",
       "                                                                                                                                                                                                                                                                                                                                                                                                                                                                                                                                                                                                                                                                                                                                                                                                                                                                                                                                                                                                                                                                                                                                                                                                                                                                                                                                                                                                                                                                                                                                                                                                                                                                                                                                                                                                                                                                                                                                                                                                                                                                                                                                                                                                                                                                                                                                                                                                                                                                                                                                                                                                                                                  text_clean  \\\n",
       "0  Chicago Theatre Seating Chart With Seat Numbers Tickpick Chicago Theatre Seating Chart Theatre In Chicago 47 All Inclusive The Chicago Theater Seating Cibc Theatre Seating Chart Hamilton Seat Views Tickpick Cibc Theatre Seating Chart Theatre In Chicago Cibc Theatre Seating Chart Hamilton Seat Views Tickpick Chicago Theatre Seating Chart With Seat Numbers Tickpick Nederlander Theatre Seating Chart Theatre In Chicago The Chicago Theatre Seat Map Msg Official Site Shubert Theatre Seating Chart Best Seats Pro Tips And More Cadillac Palace Theatre Seating Chart Theatre In Chicago St James Theatre Seating Chart Frozen Guide Best Seats Chicago Theater Seating Chart Balcony Image Balcony And Winter Garden Theatre Online Charts Collection Athenaeum Theatre Main Stage Seating Chart Theatre In Spectrum Center Seating Chart With Seat Numbers Seating Chart Individual Tickets Amalie Arena Seating Chart With Rows Amalie Arena Seating Chart With Rows And Seat Numbers Chicago Theater Seating Chart Main Floor Best Of Folger Seating Chart Greek Theatre Venue Seating Charts 101 9fm The Mix Wtmx Chicago Theatre Seat Numbers Online Charts Collection 2 Tickets Hamilton 6 1 19 Cibc Theatre Chicago Il Ebay Allstate Arena Seat Row Numbers Detailed Seating Chart Lyric Opera Seating Chart Lyric Opera Of Chicago Chicago United Center Seat Numbers Detailed Seating Plan Ambassador Theatre Seating Chart Chicago Tickets Reviews 10 Things We Learned Buying Hamilton Chicago Tickets Image Result For Altria Theater Detailed Seating Chart 25 Elegant Scottrade Center Detailed Seating Chart Seaket Com Seating Chart Seat Number Spac Seating Chart Hd Png Lyric Opera Seating Chart Lyric Opera Of Chicago Seating Plan Lyric Theatre Rational The Majestic Seating Chart Chicago Theatre Seating Music Box Theatre Seating Chart Best Seats Pro Tips And 70 Clean Booth Playhouse Seating Chart Seating Chart Free Png Download Seat Number Rosemont Theater Seating Venue Seating Charts 101 9fm The Mix Wtmx Chicago 71 Best Of Image Of Warner Theatre Seating Chart The Chicago Theatre Chicago Il Seating Chart Stage Section 101 Gila River Arena Seating Chart With Seat Music Theater Seat Online Charts Collection 66 Prototypical Atlanta Hawks Arena Seating Chart Seating Chart Riviera Theatre Seating Chart And Events Schedule Systematic Seat Map Of B1 Msg Seating Chart With Seat Numbers Www Bedowntowndaytona Com Scotiabank Arena Seating Chart Rows Seat Numbers And Club The Most Amazing As Well As Lovely Staples Center Seating Chicago Theatre Main Floor 3l Rateyourseats Com   \n",
       "1                                                                                                                                                                                                                                                                                                                                                                                                     Harris Theater Seatmap Chicago Opera Theater Chicago Harris Theater Seating Chart English Shen Yun Harris Theater 2019 Seating Chart Chicago Gay Mens Chorus Harris Theater Chicago Gay Mens Harris Theater Chicago Il Seating Chart Stage Chicago Gay Mens Chorus Harris Theater Chicago Gay Mens Photos At Harris Theater Harris Theater Tickets In Chicago Illinois Harris Theater Seat Map Chicago Opera Theater Harris Theater For Music And Dance Seating Chart Genuine Harris Center Seating Maps Photos At Harris Theater Harris Theater Chicago Wikipedia Harris Center Seating Maps Cibc Theatre Seating Chart Hamilton Seat Views Tickpick Harris Theater Chicago Wikipedia Hubbard Street Dance Chicago Packages Harris Theater Chicago Seating Chart Related Keywords Broadway In Chicago Wikiwand Your A To Z Guide To Broadway Theater Seating Charts Your A To Z Guide To Broadway Theater Seating Charts Map Of Millennium Park Plan Your Experience The Grant Seating Charts United Center Lyric Opera Seating Chart Lyric Opera Of Chicago Upcoming Events At The Copernicus Center In Chicago Chicago United Center View From Section 301 Row 8 Seat 15 Meticulous Young Auditorium Seating Chart Rosemont Rosemont Theatre Seating Chart English Shen Yun Millennium Park In Chicago Find Park Info Art Events Tours Broadway Seating Map Paramount Theatre Seat Map Chicago Opera Theater Your A To Z Guide To Broadway Theater Seating Charts Albert Theatre Goodman Theatre Chicago Theatre Seating Chart With Seat Numbers Tickpick Seating Chart Arcada Theatre Harris Theater Seating Chart Awesome The 10 Best Restaurants Lyric Opera Seating Chart Lyric Opera Of Chicago Grand Theatre Wolverhampton Swansea Grand Theatre Grand Cibc Theatre Chicago Tickets Schedule Seating Chart Directions Lookingglass Theatre Seating Chart Theatre In Chicago Seating Chart Auditorium Theatre Harris Theater Chicago Wikipedia James M Nederlander Theatre Seating Chart James M Harris Center Seating Maps Seating Chart Arie Crown Theater Oreilly Theater Briar Street Theater Seating Chart Chicago Harris Theater Seating Chart Awesome The 10 Best Restaurants Bmo Harris Bank Center Tickets And Bmo Harris Bank Center   \n",
       "2                                                                                                                                                                                                                                                                                                                                                                                                                                                                                                                                                                                                                                                                                                                                                                                                                                                                                                                                                                                                 Published: December 14, 2020 nanjanWere not exactly sure whats going here, but we have a pretty good idea. What do you think the story is with these photosAbout a month ago, I joined a public Facebook group called, ILLINOIS Abandoned Images .The beauty in the old, simplicity, the forgotten, is something to be cherished and never forgotten. It tells our story and we must listen.People share photos of Illinois abandoned houses, farms, commercial buildings, and just about anything else that weve just ignored and left behind. Ive lost quite a bit of time looking at some pretty remarkable photos. The only rule for being a part of this group, besides acting like a respectable adult, appears to be that you dont share or ask for addresses.Over the weekend, one member shared a couple photos of this Oldsmobile 442 that was just left behind. The stories that muscle car could tell... if cars could talk. Id like to know the story of how a tree just grew right through it. At some point, youd think the owner would say, damn, theres a tree growing through my 442, Ive got to move her. But that clearly didnt happen. And, why is it still there Its not like that tree just grew that big overnight. ILLINOIS Abandoned Images Troy Shepard ILLINOIS Abandoned Images Troy ShepardWhat do you think the story might beSteve Shannon is host of The Steve Shannon Show on 97ZOK. On the air weekday mornings from 6 to 10 a.m. and a special Rewind show, featuring favorite moments from previous shows, on Saturday mornings from 5 to 7 a.m.. Follow him on Twitter , Instagram , and like his page on Facebook .   \n",
       "3                                                                                                                                                                                                                                                                                                                                                                                                                                                                                                                                                                                                                                                                                                                                                                                                                                                                                                                    National News FILE  This May 4, 2010 file photo shows Fox News Channels Wendell Goler in the White House briefing room in Washington. Goler, a longtime White House correspondent for Fox News Channel who reported on government since the presidency of Ronald Reagan, died this week of apparent kidney failure. He was 70. AP PhotoCharles Dharapak, File Thursday, March 5, 2020 1:09 PM EST By The Associated Press, APNEW YORK AP  Wendell Goler, a longtime White House correspondent for Fox News Channel who reported on government since the presidency of Ronald Reagan, has died at age 70.He died this week of apparent kidney failure, said a former Fox colleague, Brit Hume.Goler was a Fox News original, joining the network at its inception in 1996 and working his way up to senior White House foreign affairs correspondent. He retired in 2014. He worked for The Associated Press and Washingtonarea television stations before joining Fox.He was a panelist for Republican presidential debates in South Carolina and New Hampshire in 2007, and interviewed Hillary Clinton when she was secretary of state, and former First Lady Laura Bush.Wendell was a gifted correspondent, a wonderful colleague and a Fox News original whose reporting was respected on both sides of the aisle, said Suzanne Scott, CEO of Fox News Media. We extend our deepest condolences to his wife Marge and his entire family.Goler jokingly referred to himself as a dinosaur upon his retirement but said he was glad to work during a golden era in broadcasting.Hume called Goler a valued friend who did consistently solid and balanced work and his reports were always wellcrafted, clear and easy to follow. AP    \n",
       "4                                                                                                                                                                                                                                                                                                                                                                                                                                                                                                                                                                                                                                                                                                                                                                                                                                                                                                                                                                                                                                                                                                                                                                                                                                                                                                                                                                                                                                                                                                                                                                                                                                                                                                                                                                                                                                                                                                                                                                                                                                                                                                                                                                                                                                                                                                                                                                                                                           I am looking forward to many things in 2021. Illinois basketball returning to the tournament, if Im being honest, is higher than Id like to admit. We made it, everyone. We made it through.Here are this weeks stories:SATURDAY   \n",
       "\n",
       "   topics  \n",
       "0      23  \n",
       "1      23  \n",
       "2      25  \n",
       "3      28  \n",
       "4      22  "
      ]
     },
     "execution_count": 22,
     "metadata": {},
     "output_type": "execute_result"
    }
   ],
   "source": [
    "df_news.head()"
   ]
  },
  {
   "cell_type": "code",
   "execution_count": 23,
   "metadata": {},
   "outputs": [
    {
     "data": {
      "text/plain": [
       "(200891, 7)"
      ]
     },
     "execution_count": 23,
     "metadata": {},
     "output_type": "execute_result"
    }
   ],
   "source": [
    "df_news.shape"
   ]
  },
  {
   "cell_type": "code",
   "execution_count": 24,
   "metadata": {},
   "outputs": [],
   "source": [
    "df_news.to_csv('topic_full_data.csv')"
   ]
  },
  {
   "cell_type": "markdown",
   "metadata": {},
   "source": [
    "### Basic method to only extract text with Chicago or Illinois in it"
   ]
  },
  {
   "cell_type": "code",
   "execution_count": null,
   "metadata": {},
   "outputs": [],
   "source": [
    "df1 = df_news[df_news['text'].str.contains('Chicago') | df_news['text'].str.contains('chicago') | \\\n",
    "       df_news['text'].str.contains('CHICAGO') | df_news['text'].str.contains('Illinois') | \\\n",
    "       df_news['text'].str.contains('illinois') | df_news['text'].str.contains('ILLINOIS') & \\\n",
    "             ~(df_news['text'].str.contains('Weather Update') | df_news['text'].str.contains('Weather forecast'))]"
   ]
  },
  {
   "cell_type": "code",
   "execution_count": null,
   "metadata": {},
   "outputs": [],
   "source": [
    "df1"
   ]
  },
  {
   "cell_type": "code",
   "execution_count": null,
   "metadata": {},
   "outputs": [],
   "source": [
    "df1.text[12]"
   ]
  },
  {
   "cell_type": "code",
   "execution_count": null,
   "metadata": {},
   "outputs": [],
   "source": []
  }
 ],
 "metadata": {
  "kernelspec": {
   "display_name": "Python 3",
   "language": "python",
   "name": "python3"
  },
  "language_info": {
   "codemirror_mode": {
    "name": "ipython",
    "version": 3
   },
   "file_extension": ".py",
   "mimetype": "text/x-python",
   "name": "python",
   "nbconvert_exporter": "python",
   "pygments_lexer": "ipython3",
   "version": "3.7.6"
  }
 },
 "nbformat": 4,
 "nbformat_minor": 4
}
