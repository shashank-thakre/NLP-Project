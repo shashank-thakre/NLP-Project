{
 "cells": [
  {
   "cell_type": "code",
   "execution_count": 3,
   "metadata": {},
   "outputs": [],
   "source": [
    "import numpy as np\n",
    "import pandas as pd\n",
    "\n",
    "import matplotlib.pyplot as plt\n",
    "import matplotlib\n",
    "%matplotlib inline\n",
    "\n",
    "import seaborn as sns\n",
    "\n",
    "pd.set_option('display.max_colwidth', None)"
   ]
  },
  {
   "cell_type": "code",
   "execution_count": 2,
   "metadata": {},
   "outputs": [
    {
     "data": {
      "text/html": [
       "<div>\n",
       "<style scoped>\n",
       "    .dataframe tbody tr th:only-of-type {\n",
       "        vertical-align: middle;\n",
       "    }\n",
       "\n",
       "    .dataframe tbody tr th {\n",
       "        vertical-align: top;\n",
       "    }\n",
       "\n",
       "    .dataframe thead th {\n",
       "        text-align: right;\n",
       "    }\n",
       "</style>\n",
       "<table border=\"1\" class=\"dataframe\">\n",
       "  <thead>\n",
       "    <tr style=\"text-align: right;\">\n",
       "      <th></th>\n",
       "      <th>date</th>\n",
       "      <th>combined</th>\n",
       "      <th>topics2</th>\n",
       "      <th>text_sent</th>\n",
       "      <th>sentiment</th>\n",
       "      <th>sentiment_score</th>\n",
       "    </tr>\n",
       "  </thead>\n",
       "  <tbody>\n",
       "    <tr>\n",
       "      <th>0</th>\n",
       "      <td>2020-12-15</td>\n",
       "      <td>There's a Big Tree Growing Through a Car in Illinois Published: December 14, 2020 nanjanWere not exactly sure whats going here, but we have a pretty good idea. What do you think the story is with these photosAbout a month ago, I joined a public Facebook group called, ILLINOIS Abandoned Images .The beauty in the old, simplicity, the forgotten, is something to be cherished and never forgotten. It tells our story and we must listen.People share photos of Illinois abandoned houses, farms, commercial buildings, and just about anything else that weve just ignored and left behind. Ive lost quite a bit of time looking at some pretty remarkable photos. The only rule for being a part of this group, besides acting like a respectable adult, appears to be that you dont share or ask for addresses.Over the weekend, one member shared a couple photos of this Oldsmobile 442 that was just left behind. The stories that muscle car could tell... if cars could talk. Id like to know the story of how a tree just grew right through it. At some point, youd think the owner would say, damn, theres a tree growing through my 442, Ive got to move her. But that clearly didnt happen. And, why is it still there Its not like that tree just grew that big overnight. ILLINOIS Abandoned Images Troy Shepard ILLINOIS Abandoned Images Troy ShepardWhat do you think the story might beSteve Shannon is host of The Steve Shannon Show on 97ZOK. On the air weekday mornings from 6 to 10 a.m. and a special Rewind show, featuring favorite moments from previous shows, on Saturday mornings from 5 to 7 a.m.. Follow him on Twitter , Instagram , and like his page on Facebook .</td>\n",
       "      <td>6</td>\n",
       "      <td>There's a Big Tree Growing Through a Car in Illinois Published: December 14, 2020 nanjanWere not exactly sure whats going here, but we have a pretty good idea. What do you think the story is with these photosAbout a month ago, I joined a public Facebook group called, ILLINOIS Abandoned Images .The beauty in the old, simplicity, the forgotten, is something to be cherished and never forgotten. It te</td>\n",
       "      <td>Positive</td>\n",
       "      <td>1</td>\n",
       "    </tr>\n",
       "  </tbody>\n",
       "</table>\n",
       "</div>"
      ],
      "text/plain": [
       "         date  \\\n",
       "0  2020-12-15   \n",
       "\n",
       "                                                                                                                                                                                                                                                                                                                                                                                                                                                                                                                                                                                                                                                                                                                                                                                                                                                                                                                                                                                                                                                                                                                                                                                                                                                                                                                                                                                                                                                                                                                                                                                                                                                                                                          combined  \\\n",
       "0  There's a Big Tree Growing Through a Car in Illinois Published: December 14, 2020 nanjanWere not exactly sure whats going here, but we have a pretty good idea. What do you think the story is with these photosAbout a month ago, I joined a public Facebook group called, ILLINOIS Abandoned Images .The beauty in the old, simplicity, the forgotten, is something to be cherished and never forgotten. It tells our story and we must listen.People share photos of Illinois abandoned houses, farms, commercial buildings, and just about anything else that weve just ignored and left behind. Ive lost quite a bit of time looking at some pretty remarkable photos. The only rule for being a part of this group, besides acting like a respectable adult, appears to be that you dont share or ask for addresses.Over the weekend, one member shared a couple photos of this Oldsmobile 442 that was just left behind. The stories that muscle car could tell... if cars could talk. Id like to know the story of how a tree just grew right through it. At some point, youd think the owner would say, damn, theres a tree growing through my 442, Ive got to move her. But that clearly didnt happen. And, why is it still there Its not like that tree just grew that big overnight. ILLINOIS Abandoned Images Troy Shepard ILLINOIS Abandoned Images Troy ShepardWhat do you think the story might beSteve Shannon is host of The Steve Shannon Show on 97ZOK. On the air weekday mornings from 6 to 10 a.m. and a special Rewind show, featuring favorite moments from previous shows, on Saturday mornings from 5 to 7 a.m.. Follow him on Twitter , Instagram , and like his page on Facebook .   \n",
       "\n",
       "   topics2  \\\n",
       "0        6   \n",
       "\n",
       "                                                                                                                                                                                                                                                                                                                                                                                                          text_sent  \\\n",
       "0  There's a Big Tree Growing Through a Car in Illinois Published: December 14, 2020 nanjanWere not exactly sure whats going here, but we have a pretty good idea. What do you think the story is with these photosAbout a month ago, I joined a public Facebook group called, ILLINOIS Abandoned Images .The beauty in the old, simplicity, the forgotten, is something to be cherished and never forgotten. It te   \n",
       "\n",
       "  sentiment  sentiment_score  \n",
       "0  Positive                1  "
      ]
     },
     "execution_count": 2,
     "metadata": {},
     "output_type": "execute_result"
    }
   ],
   "source": [
    "df_news = pd.read_csv('Sentiment_score1.csv')\n",
    "df_news.head(1)"
   ]
  },
  {
   "cell_type": "code",
   "execution_count": 5,
   "metadata": {},
   "outputs": [],
   "source": [
    "tweet_timeline_df = df_news.copy()\n",
    "tweet_timeline_df = tweet_timeline_df[['date', 'sentiment_score']].set_index('date')\n",
    "\n",
    "new_df = tweet_timeline_df.groupby(by='date').mean()"
   ]
  },
  {
   "cell_type": "code",
   "execution_count": null,
   "metadata": {},
   "outputs": [],
   "source": [
    "sns.lineplot(x=)"
   ]
  }
 ],
 "metadata": {
  "kernelspec": {
   "display_name": "Python 3",
   "language": "python",
   "name": "python3"
  },
  "language_info": {
   "codemirror_mode": {
    "name": "ipython",
    "version": 3
   },
   "file_extension": ".py",
   "mimetype": "text/x-python",
   "name": "python",
   "nbconvert_exporter": "python",
   "pygments_lexer": "ipython3",
   "version": "3.7.6"
  }
 },
 "nbformat": 4,
 "nbformat_minor": 4
}
